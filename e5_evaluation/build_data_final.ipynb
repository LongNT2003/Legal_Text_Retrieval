{
 "cells": [
  {
   "cell_type": "code",
   "execution_count": 3,
   "metadata": {},
   "outputs": [],
   "source": [
    "import pandas as pd"
   ]
  },
  {
   "cell_type": "code",
   "execution_count": 2,
   "metadata": {},
   "outputs": [
    {
     "data": {
      "text/html": [
       "<div>\n",
       "<style scoped>\n",
       "    .dataframe tbody tr th:only-of-type {\n",
       "        vertical-align: middle;\n",
       "    }\n",
       "\n",
       "    .dataframe tbody tr th {\n",
       "        vertical-align: top;\n",
       "    }\n",
       "\n",
       "    .dataframe thead th {\n",
       "        text-align: right;\n",
       "    }\n",
       "</style>\n",
       "<table border=\"1\" class=\"dataframe\">\n",
       "  <thead>\n",
       "    <tr style=\"text-align: right;\">\n",
       "      <th></th>\n",
       "      <th>text</th>\n",
       "      <th>cid</th>\n",
       "    </tr>\n",
       "  </thead>\n",
       "  <tbody>\n",
       "    <tr>\n",
       "      <th>0</th>\n",
       "      <td>Thông tư này hướng dẫn tuần tra, canh gác bảo ...</td>\n",
       "      <td>0</td>\n",
       "    </tr>\n",
       "    <tr>\n",
       "      <th>1</th>\n",
       "      <td>1. Hàng năm trước mùa mưa, lũ, Ủy ban nhân dân...</td>\n",
       "      <td>1</td>\n",
       "    </tr>\n",
       "    <tr>\n",
       "      <th>2</th>\n",
       "      <td>Tiêu chuẩn của các thành viên thuộc lực lượng ...</td>\n",
       "      <td>2</td>\n",
       "    </tr>\n",
       "    <tr>\n",
       "      <th>3</th>\n",
       "      <td>Nhiệm vụ của lực lượng tuần tra, canh gác đê\\n...</td>\n",
       "      <td>3</td>\n",
       "    </tr>\n",
       "    <tr>\n",
       "      <th>4</th>\n",
       "      <td>Phù hiệu của lực lượng tuần tra, canh gác đê\\n...</td>\n",
       "      <td>4</td>\n",
       "    </tr>\n",
       "  </tbody>\n",
       "</table>\n",
       "</div>"
      ],
      "text/plain": [
       "                                                text  cid\n",
       "0  Thông tư này hướng dẫn tuần tra, canh gác bảo ...    0\n",
       "1  1. Hàng năm trước mùa mưa, lũ, Ủy ban nhân dân...    1\n",
       "2  Tiêu chuẩn của các thành viên thuộc lực lượng ...    2\n",
       "3  Nhiệm vụ của lực lượng tuần tra, canh gác đê\\n...    3\n",
       "4  Phù hiệu của lực lượng tuần tra, canh gác đê\\n...    4"
      ]
     },
     "execution_count": 2,
     "metadata": {},
     "output_type": "execute_result"
    }
   ],
   "source": [
    "corpus=pd.read_csv('corpus.csv')\n",
    "corpus.head()"
   ]
  },
  {
   "cell_type": "code",
   "execution_count": 6,
   "metadata": {},
   "outputs": [
    {
     "name": "stdout",
     "output_type": "stream",
     "text": [
      "['1. Hàng năm trước mùa mưa, lũ, Ủy ban nhân dân cấp xã nơi có đê phải tổ chức lực lượng lao động tại địa phương để tuần tra, canh gác đê và thường trực trên các điếm canh đê hoặc nhà dân khu vực gần đê (đối với những khu vực chưa có điếm canh đê), khi có báo động lũ từ cấp I trở lên đối với tuyến sông có đê (sau đây gọi tắt là lực lượng tuần tra, canh gác đê).\\n2. Lực lượng tuần tra, canh gác đê được tổ chức thành các đội, do Ủy ban nhân dân cấp xã ra quyết định thành lập; từ 01 đến 02 kilômét đê thành lập 01 đội; mỗi đội có từ 12 đến 18 người, trong đó có 01 đội trưởng và 01 hoặc 02 đội phó. Danh sách thành viên đội tuần tra, canh gác đê được niêm yết tại điếm canh đê thuộc địa bàn được phân công.\\n3. Khi lũ, bão có diễn biến phức tạp, kéo dài ngày, Uỷ ban nhân dân cấp xã có thể quyết định việc bổ sung thêm thành viên cho đội tuần tra, canh gác đê.', 'Tiêu chuẩn của các thành viên thuộc lực lượng tuần tra, canh gác đê\\n1. Là người khoẻ mạnh, tháo vát, đủ khả năng đảm đương những công việc nặng nhọc, kể cả lúc mưa to, gió lớn, đêm tối.\\n2. Có tinh thần trách nhiệm, chịu đựng gian khổ, khắc phục khó khăn, quen sông nước và biết bơi, có kiến thức, kinh nghiệm hộ đê, phòng, chống lụt, bão.', 'Nhiệm vụ của lực lượng tuần tra, canh gác đê\\n1. Chấp hành sự phân công của Ban chỉ huy phòng, chống lụt, bão các cấp và chịu sự hướng dẫn về chuyên môn nghiệp vụ của cơ quan chuyên trách quản lý đê Điều.\\n2. Tuần tra, canh gác và thường trực trên các điếm canh đê, khi có báo động lũ từ cấp I trở lên đối với tuyến sông có đê. Theo dõi diễn biến của đê Điều; phát hiện kịp thời những hư hỏng của đê Điều và báo cáo ngay cho Ban chỉ huy chống lụt bão xã, cán bộ chuyên trách quản lý đê Điều phụ trách tuyến đê đó và khẩn trương tiến hành xử lý giờ đầu theo đúng kỹ thuật đã được hướng dẫn.\\n3. Tham gia xử lý sự cố và tu sửa kịp thời những hư hỏng của đê Điều, dưới sự hướng dẫn về kỹ thuật của cán bộ chuyên trách quản lý đê Điều hoặc ý kiến chỉ đạo của cấp trên.\\n4. Canh gác, kiểm tra phát hiện và ngăn chặn kịp thời những hành vi vi phạm pháp Luật về đê Điều và phòng, chống lụt, bão và báo cáo ngay cán bộ chuyên trách quản lý đê Điều.\\n5. Đeo phù hiệu khi làm nhiệm vụ.']\n"
     ]
    }
   ],
   "source": [
    "def get_texts_by_cids(df, cids):\n",
    "    \"\"\"\n",
    "    Retrieve texts corresponding to the given list of cids from the DataFrame.\n",
    "\n",
    "    Args:\n",
    "    df (pd.DataFrame): DataFrame containing 'text' and 'cid' columns.\n",
    "    cids (list): List of cids to search for.\n",
    "\n",
    "    Returns:\n",
    "    list: List of texts corresponding to the given cids.\n",
    "    \"\"\"\n",
    "    # Filter the DataFrame based on the cids\n",
    "    texts = df[df['cid'].isin(cids)]['text'].tolist()\n",
    "    return texts\n",
    "print(get_texts_by_cids(corpus,[1,2,3]))"
   ]
  },
  {
   "cell_type": "code",
   "execution_count": 3,
   "metadata": {},
   "outputs": [
    {
     "name": "stdout",
     "output_type": "stream",
     "text": [
      "0\n"
     ]
    }
   ],
   "source": [
    "cids=corpus['cid'].to_list()\n",
    "print(cids[0])"
   ]
  },
  {
   "cell_type": "code",
   "execution_count": 95,
   "metadata": {},
   "outputs": [
    {
     "data": {
      "text/html": [
       "<div>\n",
       "<style scoped>\n",
       "    .dataframe tbody tr th:only-of-type {\n",
       "        vertical-align: middle;\n",
       "    }\n",
       "\n",
       "    .dataframe tbody tr th {\n",
       "        vertical-align: top;\n",
       "    }\n",
       "\n",
       "    .dataframe thead th {\n",
       "        text-align: right;\n",
       "    }\n",
       "</style>\n",
       "<table border=\"1\" class=\"dataframe\">\n",
       "  <thead>\n",
       "    <tr style=\"text-align: right;\">\n",
       "      <th></th>\n",
       "      <th>question</th>\n",
       "      <th>context</th>\n",
       "      <th>cid</th>\n",
       "      <th>qid</th>\n",
       "      <th>hard_negative</th>\n",
       "    </tr>\n",
       "  </thead>\n",
       "  <tbody>\n",
       "    <tr>\n",
       "      <th>0</th>\n",
       "      <td>Người học ngành quản lý khai thác công trình t...</td>\n",
       "      <td>['Khả năng học tập, nâng cao trình độ\\n- Khối ...</td>\n",
       "      <td>[62492]</td>\n",
       "      <td>161615</td>\n",
       "      <td>[161615, 189736, 574340, 227186, 498944, 14382...</td>\n",
       "    </tr>\n",
       "    <tr>\n",
       "      <th>1</th>\n",
       "      <td>Nội dung lồng ghép vấn đề bình đẳng giới trong...</td>\n",
       "      <td>['Nội dung lồng ghép vấn đề bình đẳng giới tro...</td>\n",
       "      <td>[151154]</td>\n",
       "      <td>80037</td>\n",
       "      <td>[80037, 53914, 214112, 26107, 151153, 26117, 2...</td>\n",
       "    </tr>\n",
       "    <tr>\n",
       "      <th>2</th>\n",
       "      <td>Sản phẩm phần mềm có được hưởng ưu đãi về thời...</td>\n",
       "      <td>['\"Điều 20. Ưu đãi về thời gian miễn thuế, giả...</td>\n",
       "      <td>[75071]</td>\n",
       "      <td>124074</td>\n",
       "      <td>[124074, 585406, 233023, 631699, 629619, 45449...</td>\n",
       "    </tr>\n",
       "    <tr>\n",
       "      <th>3</th>\n",
       "      <td>Điều kiện để giáo viên trong cơ sở giáo dục mầ...</td>\n",
       "      <td>['Điều kiện được hưởng\\nCán bộ quản lý, giáo v...</td>\n",
       "      <td>[225897]</td>\n",
       "      <td>146841</td>\n",
       "      <td>[146841, 259260, 603297, 11935, 552192, 603295...</td>\n",
       "    </tr>\n",
       "    <tr>\n",
       "      <th>4</th>\n",
       "      <td>Nguyên tắc áp dụng phụ cấp ưu đãi nghề y tế th...</td>\n",
       "      <td>['Nguyên tắc áp dụng\\n1. Trường hợp công chức,...</td>\n",
       "      <td>[68365]</td>\n",
       "      <td>6176</td>\n",
       "      <td>[6176, 111914, 49288, 92768, 81573, 71511, 492...</td>\n",
       "    </tr>\n",
       "  </tbody>\n",
       "</table>\n",
       "</div>"
      ],
      "text/plain": [
       "                                            question  \\\n",
       "0  Người học ngành quản lý khai thác công trình t...   \n",
       "1  Nội dung lồng ghép vấn đề bình đẳng giới trong...   \n",
       "2  Sản phẩm phần mềm có được hưởng ưu đãi về thời...   \n",
       "3  Điều kiện để giáo viên trong cơ sở giáo dục mầ...   \n",
       "4  Nguyên tắc áp dụng phụ cấp ưu đãi nghề y tế th...   \n",
       "\n",
       "                                             context       cid     qid  \\\n",
       "0  ['Khả năng học tập, nâng cao trình độ\\n- Khối ...   [62492]  161615   \n",
       "1  ['Nội dung lồng ghép vấn đề bình đẳng giới tro...  [151154]   80037   \n",
       "2  ['\"Điều 20. Ưu đãi về thời gian miễn thuế, giả...   [75071]  124074   \n",
       "3  ['Điều kiện được hưởng\\nCán bộ quản lý, giáo v...  [225897]  146841   \n",
       "4  ['Nguyên tắc áp dụng\\n1. Trường hợp công chức,...   [68365]    6176   \n",
       "\n",
       "                                       hard_negative  \n",
       "0  [161615, 189736, 574340, 227186, 498944, 14382...  \n",
       "1  [80037, 53914, 214112, 26107, 151153, 26117, 2...  \n",
       "2  [124074, 585406, 233023, 631699, 629619, 45449...  \n",
       "3  [146841, 259260, 603297, 11935, 552192, 603295...  \n",
       "4  [6176, 111914, 49288, 92768, 81573, 71511, 492...  "
      ]
     },
     "execution_count": 95,
     "metadata": {},
     "output_type": "execute_result"
    }
   ],
   "source": [
    "train=pd.read_csv('train_with_hard_negative.csv')\n",
    "train.head()"
   ]
  },
  {
   "cell_type": "code",
   "execution_count": 96,
   "metadata": {},
   "outputs": [
    {
     "name": "stdout",
     "output_type": "stream",
     "text": [
      "{1: 106884, 2: 11282, 3: 1115, 4: 128, 5: 30, 7: 3, 6: 11, 9: 2, 8: 1}\n"
     ]
    }
   ],
   "source": [
    "length={}\n",
    "data_records=train.to_dict(orient='records')\n",
    "for point in data_records:\n",
    "    cid_str=point['cid']\n",
    "    curr=list(map(int, cid_str.strip('[]').split()))\n",
    "    curr_text=point['context']\n",
    "    if len(curr) != len(curr_text.split('\\n')):\n",
    "        break\n",
    "    if len(curr) in length.keys():\n",
    "        length[len(curr)]+=1\n",
    "    else:\n",
    "        length[len(curr)]=1\n",
    "print(length)"
   ]
  },
  {
   "cell_type": "code",
   "execution_count": 97,
   "metadata": {},
   "outputs": [],
   "source": [
    "def process_context(context : str):\n",
    "    context_list=context.split('\\n')\n",
    "    context_strip=[law.strip('[]').replace('\"', '').replace(\"'\",\"\") for law in context_list]\n",
    "    return context_strip\n",
    "train['context']=train['context'].apply(process_context)\n",
    "train['cid']=train['cid'].apply(lambda x:list(map(int, x.strip('[]').split())))\n",
    "train['hard_negative']=train['hard_negative'].apply(eval)"
   ]
  },
  {
   "cell_type": "code",
   "execution_count": 98,
   "metadata": {},
   "outputs": [
    {
     "name": "stdout",
     "output_type": "stream",
     "text": [
      "max length of positive 9\n"
     ]
    },
    {
     "data": {
      "text/html": [
       "<div>\n",
       "<style scoped>\n",
       "    .dataframe tbody tr th:only-of-type {\n",
       "        vertical-align: middle;\n",
       "    }\n",
       "\n",
       "    .dataframe tbody tr th {\n",
       "        vertical-align: top;\n",
       "    }\n",
       "\n",
       "    .dataframe thead th {\n",
       "        text-align: right;\n",
       "    }\n",
       "</style>\n",
       "<table border=\"1\" class=\"dataframe\">\n",
       "  <thead>\n",
       "    <tr style=\"text-align: right;\">\n",
       "      <th></th>\n",
       "      <th>question</th>\n",
       "      <th>cid</th>\n",
       "      <th>qid</th>\n",
       "      <th>hard_negative</th>\n",
       "      <th>positive_1</th>\n",
       "      <th>positive_2</th>\n",
       "      <th>positive_3</th>\n",
       "      <th>positive_4</th>\n",
       "      <th>positive_5</th>\n",
       "      <th>positive_6</th>\n",
       "      <th>positive_7</th>\n",
       "      <th>positive_8</th>\n",
       "      <th>positive_9</th>\n",
       "    </tr>\n",
       "  </thead>\n",
       "  <tbody>\n",
       "    <tr>\n",
       "      <th>0</th>\n",
       "      <td>Người học ngành quản lý khai thác công trình t...</td>\n",
       "      <td>[62492]</td>\n",
       "      <td>161615</td>\n",
       "      <td>[161615, 189736, 574340, 227186, 498944, 14382...</td>\n",
       "      <td>Khả năng học tập, nâng cao trình độ\\n- Khối lư...</td>\n",
       "      <td>None</td>\n",
       "      <td>None</td>\n",
       "      <td>None</td>\n",
       "      <td>None</td>\n",
       "      <td>None</td>\n",
       "      <td>None</td>\n",
       "      <td>None</td>\n",
       "      <td>None</td>\n",
       "    </tr>\n",
       "    <tr>\n",
       "      <th>1</th>\n",
       "      <td>Nội dung lồng ghép vấn đề bình đẳng giới trong...</td>\n",
       "      <td>[151154]</td>\n",
       "      <td>80037</td>\n",
       "      <td>[80037, 53914, 214112, 26107, 151153, 26117, 2...</td>\n",
       "      <td>Nội dung lồng ghép vấn đề bình đẳng giới trong...</td>\n",
       "      <td>None</td>\n",
       "      <td>None</td>\n",
       "      <td>None</td>\n",
       "      <td>None</td>\n",
       "      <td>None</td>\n",
       "      <td>None</td>\n",
       "      <td>None</td>\n",
       "      <td>None</td>\n",
       "    </tr>\n",
       "    <tr>\n",
       "      <th>2</th>\n",
       "      <td>Sản phẩm phần mềm có được hưởng ưu đãi về thời...</td>\n",
       "      <td>[75071]</td>\n",
       "      <td>124074</td>\n",
       "      <td>[124074, 585406, 233023, 631699, 629619, 45449...</td>\n",
       "      <td>Điều 20. Ưu đãi về thời gian miễn thuế, giảm t...</td>\n",
       "      <td>None</td>\n",
       "      <td>None</td>\n",
       "      <td>None</td>\n",
       "      <td>None</td>\n",
       "      <td>None</td>\n",
       "      <td>None</td>\n",
       "      <td>None</td>\n",
       "      <td>None</td>\n",
       "    </tr>\n",
       "    <tr>\n",
       "      <th>3</th>\n",
       "      <td>Điều kiện để giáo viên trong cơ sở giáo dục mầ...</td>\n",
       "      <td>[225897]</td>\n",
       "      <td>146841</td>\n",
       "      <td>[146841, 259260, 603297, 11935, 552192, 603295...</td>\n",
       "      <td>Điều kiện được hưởng\\nCán bộ quản lý, giáo viê...</td>\n",
       "      <td>None</td>\n",
       "      <td>None</td>\n",
       "      <td>None</td>\n",
       "      <td>None</td>\n",
       "      <td>None</td>\n",
       "      <td>None</td>\n",
       "      <td>None</td>\n",
       "      <td>None</td>\n",
       "    </tr>\n",
       "    <tr>\n",
       "      <th>4</th>\n",
       "      <td>Nguyên tắc áp dụng phụ cấp ưu đãi nghề y tế th...</td>\n",
       "      <td>[68365]</td>\n",
       "      <td>6176</td>\n",
       "      <td>[6176, 111914, 49288, 92768, 81573, 71511, 492...</td>\n",
       "      <td>Nguyên tắc áp dụng\\n1. Trường hợp công chức, v...</td>\n",
       "      <td>None</td>\n",
       "      <td>None</td>\n",
       "      <td>None</td>\n",
       "      <td>None</td>\n",
       "      <td>None</td>\n",
       "      <td>None</td>\n",
       "      <td>None</td>\n",
       "      <td>None</td>\n",
       "    </tr>\n",
       "  </tbody>\n",
       "</table>\n",
       "</div>"
      ],
      "text/plain": [
       "                                            question       cid     qid  \\\n",
       "0  Người học ngành quản lý khai thác công trình t...   [62492]  161615   \n",
       "1  Nội dung lồng ghép vấn đề bình đẳng giới trong...  [151154]   80037   \n",
       "2  Sản phẩm phần mềm có được hưởng ưu đãi về thời...   [75071]  124074   \n",
       "3  Điều kiện để giáo viên trong cơ sở giáo dục mầ...  [225897]  146841   \n",
       "4  Nguyên tắc áp dụng phụ cấp ưu đãi nghề y tế th...   [68365]    6176   \n",
       "\n",
       "                                       hard_negative  \\\n",
       "0  [161615, 189736, 574340, 227186, 498944, 14382...   \n",
       "1  [80037, 53914, 214112, 26107, 151153, 26117, 2...   \n",
       "2  [124074, 585406, 233023, 631699, 629619, 45449...   \n",
       "3  [146841, 259260, 603297, 11935, 552192, 603295...   \n",
       "4  [6176, 111914, 49288, 92768, 81573, 71511, 492...   \n",
       "\n",
       "                                          positive_1 positive_2 positive_3  \\\n",
       "0  Khả năng học tập, nâng cao trình độ\\n- Khối lư...       None       None   \n",
       "1  Nội dung lồng ghép vấn đề bình đẳng giới trong...       None       None   \n",
       "2  Điều 20. Ưu đãi về thời gian miễn thuế, giảm t...       None       None   \n",
       "3  Điều kiện được hưởng\\nCán bộ quản lý, giáo viê...       None       None   \n",
       "4  Nguyên tắc áp dụng\\n1. Trường hợp công chức, v...       None       None   \n",
       "\n",
       "  positive_4 positive_5 positive_6 positive_7 positive_8 positive_9  \n",
       "0       None       None       None       None       None       None  \n",
       "1       None       None       None       None       None       None  \n",
       "2       None       None       None       None       None       None  \n",
       "3       None       None       None       None       None       None  \n",
       "4       None       None       None       None       None       None  "
      ]
     },
     "execution_count": 98,
     "metadata": {},
     "output_type": "execute_result"
    }
   ],
   "source": [
    "\n",
    "# Function to expand the context column into separate positive columns\n",
    "def expand_context_column(df : pd.DataFrame, context_col='context'):\n",
    "    df=df.copy()\n",
    "    # Get the maximum length of lists in the context column\n",
    "    max_length = df[context_col].apply(len).max()\n",
    "    if max_length>10:\n",
    "        return 0\n",
    "    print('max length of positive',max_length)\n",
    "    # Create new columns for each positive text\n",
    "    for i in range(max_length):\n",
    "        # Create a new column name\n",
    "        new_col_name = f'positive_{i + 1}'\n",
    "        \n",
    "        # Assign the i-th element of the lists, if it exists; otherwise, assign NaN\n",
    "        df[new_col_name] = df[context_col].apply(lambda x: x[i] if i < len(x) else None)\n",
    "    removed_df = df.drop(columns=[context_col])\n",
    "    return removed_df\n",
    "\n",
    "# Expand the context column\n",
    "train_2 = expand_context_column(train,'context')\n",
    "train_2.head()\n"
   ]
  },
  {
   "cell_type": "code",
   "execution_count": 101,
   "metadata": {},
   "outputs": [
    {
     "data": {
      "text/plain": [
       "[161615, 189736, 574340, 227186, 498944, 143824, 61726, 131679, 494399, 77623]"
      ]
     },
     "execution_count": 101,
     "metadata": {},
     "output_type": "execute_result"
    }
   ],
   "source": [
    "def expand_hn_column(df : pd.DataFrame, context_col='hard_negative'):\n",
    "    df=df.copy()\n",
    "    # Get the maximum length of lists in the context column\n",
    "    max_length = df[context_col].apply(len).max()\n",
    "    if max_length>15:\n",
    "        return 0\n",
    "    print('max length of positive',max_length)\n",
    "    # Create new columns for each positive text\n",
    "    for i in range(max_length):\n",
    "        # Create a new column name\n",
    "        new_col_name = f'negative_{i + 1}'\n",
    "        \n",
    "        # Assign the i-th element of the lists, if it exists; otherwise, assign NaN\n",
    "        df[new_col_name] = df[context_col].apply(lambda x: x[i] if i < len(x) else None)\n",
    "    removed_df = df.drop(columns=[context_col])\n",
    "    return removed_df"
   ]
  }
 ],
 "metadata": {
  "kernelspec": {
   "display_name": "Python 3",
   "language": "python",
   "name": "python3"
  },
  "language_info": {
   "codemirror_mode": {
    "name": "ipython",
    "version": 3
   },
   "file_extension": ".py",
   "mimetype": "text/x-python",
   "name": "python",
   "nbconvert_exporter": "python",
   "pygments_lexer": "ipython3",
   "version": "3.11.0rc1"
  }
 },
 "nbformat": 4,
 "nbformat_minor": 2
}
