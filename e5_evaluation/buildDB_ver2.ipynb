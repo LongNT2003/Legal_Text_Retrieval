{
 "cells": [
  {
   "cell_type": "code",
   "execution_count": 4,
   "metadata": {},
   "outputs": [],
   "source": [
    "from qdrant_client import QdrantClient\n",
    "from qdrant_client.models import Distance, VectorParams,PointStruct\n",
    "import pandas as pd\n",
    "import json"
   ]
  },
  {
   "cell_type": "code",
   "execution_count": 5,
   "metadata": {},
   "outputs": [],
   "source": [
    "\n",
    "\n",
    "# # Load the embeddings from the JSON file\n",
    "# with open('embeddings.json', 'r') as file:\n",
    "#     embeddings = json.load(file)\n",
    "\n",
    "# # Now 'embeddings' contains the list of loaded embeddings\n",
    "# print(embeddings[0])\n"
   ]
  },
  {
   "cell_type": "code",
   "execution_count": 6,
   "metadata": {},
   "outputs": [
    {
     "data": {
      "text/plain": [
       "{'text': 'Thông tư này hướng dẫn tuần tra, canh gác bảo vệ đê Điều trong mùa lũ đối với các tuyến đê sông được phân loại, phân cấp theo quy định tại Điều 4 của Luật Đê Điều.',\n",
       " 'cid': 0}"
      ]
     },
     "execution_count": 6,
     "metadata": {},
     "output_type": "execute_result"
    }
   ],
   "source": [
    "df =pd.read_csv('corpus.csv')\n",
    "data_list_of_dicts =df.to_dict(orient='records')\n",
    "\n",
    "data_list_of_dicts[0]"
   ]
  },
  {
   "cell_type": "code",
   "execution_count": 7,
   "metadata": {},
   "outputs": [
    {
     "name": "stdout",
     "output_type": "stream",
     "text": [
      "collections=[CollectionDescription(name='legal_hackthon_2024_ver1')]\n",
      "0\n"
     ]
    }
   ],
   "source": [
    "\n",
    "client = QdrantClient(path='qdrant_db')\n",
    "\n",
    "collection_name = \"legal_hackthon_2024_ver1\"\n",
    "if not client.collection_exists(collection_name):\n",
    "    client.create_collection(\n",
    "        collection_name=collection_name,\n",
    "        vectors_config=VectorParams(size=768, distance=Distance.COSINE),\n",
    "    )\n",
    "\n",
    "print(client.get_collections())\n",
    "number_points = client.count(collection_name).count\n",
    "print(number_points)\n",
    "# client.close()"
   ]
  },
  {
   "cell_type": "code",
   "execution_count": 17,
   "metadata": {},
   "outputs": [
    {
     "name": "stdout",
     "output_type": "stream",
     "text": [
      "26160\n",
      "insert embedding part 2 successfully!\n",
      "52320\n",
      "insert embedding part 3 successfully!\n",
      "78480\n",
      "insert embedding part 4 successfully!\n",
      "104640\n",
      "insert embedding part 5 successfully!\n",
      "130800\n",
      "insert embedding part 6 successfully!\n",
      "156960\n",
      "insert embedding part 7 successfully!\n",
      "183120\n",
      "insert embedding part 8 successfully!\n",
      "209280\n",
      "insert embedding part 9 successfully!\n",
      "235440\n",
      "insert embedding part 10 successfully!\n"
     ]
    }
   ],
   "source": [
    "for i in range(1,10):\n",
    "    with open(f'embeddings_part_{i+1}.json', 'r') as file:\n",
    "        embeddings = json.load(file)\n",
    "    points=[]\n",
    "    number_points = client.count(collection_name).count\n",
    "    print(number_points)\n",
    "    for idx, vec in enumerate(embeddings):\n",
    "        curr=PointStruct(id = idx+number_points,vector=vec,payload=data_list_of_dicts[idx+number_points])\n",
    "        points.append(curr)\n",
    "    client.upsert(\n",
    "        collection_name=collection_name,\n",
    "        points=points,\n",
    "        wait=True\n",
    "    )\n",
    "    print(f'insert embedding part {i+1} successfully!')"
   ]
  },
  {
   "cell_type": "code",
   "execution_count": 11,
   "metadata": {},
   "outputs": [],
   "source": [
    "apoint=client.retrieve(collection_name=collection_name,ids=[0])"
   ]
  }
 ],
 "metadata": {
  "kernelspec": {
   "display_name": "Python 3",
   "language": "python",
   "name": "python3"
  },
  "language_info": {
   "codemirror_mode": {
    "name": "ipython",
    "version": 3
   },
   "file_extension": ".py",
   "mimetype": "text/x-python",
   "name": "python",
   "nbconvert_exporter": "python",
   "pygments_lexer": "ipython3",
   "version": "3.11.0rc1"
  }
 },
 "nbformat": 4,
 "nbformat_minor": 2
}
