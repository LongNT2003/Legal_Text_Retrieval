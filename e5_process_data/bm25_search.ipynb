{
 "cells": [
  {
   "cell_type": "code",
   "execution_count": 3,
   "metadata": {
    "execution": {
     "iopub.execute_input": "2024-10-25T18:07:46.500857Z",
     "iopub.status.busy": "2024-10-25T18:07:46.500113Z",
     "iopub.status.idle": "2024-10-25T18:07:46.506486Z",
     "shell.execute_reply": "2024-10-25T18:07:46.505081Z",
     "shell.execute_reply.started": "2024-10-25T18:07:46.500811Z"
    },
    "trusted": true
   },
   "outputs": [],
   "source": [
    "train_path='/kaggle/input/legal-train-1/train_part_1.csv'\n",
    "corpus_path='/kaggle/input/hackathon-2024-legal/corpus.csv'\n",
    "tokenize_corpus='/kaggle/input/corpus-tokenization/tokenized_corpus.pkl'"
   ]
  },
  {
   "cell_type": "code",
   "execution_count": 4,
   "metadata": {
    "execution": {
     "iopub.execute_input": "2024-10-25T18:07:46.509572Z",
     "iopub.status.busy": "2024-10-25T18:07:46.509226Z",
     "iopub.status.idle": "2024-10-25T18:08:04.370663Z",
     "shell.execute_reply": "2024-10-25T18:08:04.369318Z",
     "shell.execute_reply.started": "2024-10-25T18:07:46.509535Z"
    },
    "trusted": true
   },
   "outputs": [
    {
     "name": "stdout",
     "output_type": "stream",
     "text": [
      "Collecting rank_bm25\n",
      "  Downloading rank_bm25-0.2.2-py3-none-any.whl.metadata (3.2 kB)\n",
      "Collecting underthesea\n",
      "  Downloading underthesea-6.8.4-py3-none-any.whl.metadata (15 kB)\n",
      "Requirement already satisfied: numpy in /opt/conda/lib/python3.10/site-packages (from rank_bm25) (1.26.4)\n",
      "Requirement already satisfied: Click>=6.0 in /opt/conda/lib/python3.10/site-packages (from underthesea) (8.1.7)\n",
      "Collecting python-crfsuite>=0.9.6 (from underthesea)\n",
      "  Downloading python_crfsuite-0.9.11-cp310-cp310-manylinux_2_17_x86_64.manylinux2014_x86_64.whl.metadata (4.3 kB)\n",
      "Requirement already satisfied: nltk in /opt/conda/lib/python3.10/site-packages (from underthesea) (3.2.4)\n",
      "Requirement already satisfied: tqdm in /opt/conda/lib/python3.10/site-packages (from underthesea) (4.66.4)\n",
      "Requirement already satisfied: requests in /opt/conda/lib/python3.10/site-packages (from underthesea) (2.32.3)\n",
      "Requirement already satisfied: joblib in /opt/conda/lib/python3.10/site-packages (from underthesea) (1.4.2)\n",
      "Requirement already satisfied: scikit-learn in /opt/conda/lib/python3.10/site-packages (from underthesea) (1.2.2)\n",
      "Requirement already satisfied: PyYAML in /opt/conda/lib/python3.10/site-packages (from underthesea) (6.0.2)\n",
      "Collecting underthesea-core==1.0.4 (from underthesea)\n",
      "  Downloading underthesea_core-1.0.4-cp310-cp310-manylinux2010_x86_64.whl.metadata (1.7 kB)\n",
      "Requirement already satisfied: six in /opt/conda/lib/python3.10/site-packages (from nltk->underthesea) (1.16.0)\n",
      "Requirement already satisfied: charset-normalizer<4,>=2 in /opt/conda/lib/python3.10/site-packages (from requests->underthesea) (3.3.2)\n",
      "Requirement already satisfied: idna<4,>=2.5 in /opt/conda/lib/python3.10/site-packages (from requests->underthesea) (3.7)\n",
      "Requirement already satisfied: urllib3<3,>=1.21.1 in /opt/conda/lib/python3.10/site-packages (from requests->underthesea) (1.26.18)\n",
      "Requirement already satisfied: certifi>=2017.4.17 in /opt/conda/lib/python3.10/site-packages (from requests->underthesea) (2024.8.30)\n",
      "Requirement already satisfied: scipy>=1.3.2 in /opt/conda/lib/python3.10/site-packages (from scikit-learn->underthesea) (1.14.1)\n",
      "Requirement already satisfied: threadpoolctl>=2.0.0 in /opt/conda/lib/python3.10/site-packages (from scikit-learn->underthesea) (3.5.0)\n",
      "Downloading rank_bm25-0.2.2-py3-none-any.whl (8.6 kB)\n",
      "Downloading underthesea-6.8.4-py3-none-any.whl (20.9 MB)\n",
      "\u001b[2K   \u001b[90m━━━━━━━━━━━━━━━━━━━━━━━━━━━━━━━━━━━━━━━━\u001b[0m \u001b[32m20.9/20.9 MB\u001b[0m \u001b[31m64.1 MB/s\u001b[0m eta \u001b[36m0:00:00\u001b[0m:00:01\u001b[0m00:01\u001b[0m\n",
      "\u001b[?25hDownloading underthesea_core-1.0.4-cp310-cp310-manylinux2010_x86_64.whl (657 kB)\n",
      "\u001b[2K   \u001b[90m━━━━━━━━━━━━━━━━━━━━━━━━━━━━━━━━━━━━━━━━\u001b[0m \u001b[32m657.8/657.8 kB\u001b[0m \u001b[31m26.7 MB/s\u001b[0m eta \u001b[36m0:00:00\u001b[0m\n",
      "\u001b[?25hDownloading python_crfsuite-0.9.11-cp310-cp310-manylinux_2_17_x86_64.manylinux2014_x86_64.whl (1.2 MB)\n",
      "\u001b[2K   \u001b[90m━━━━━━━━━━━━━━━━━━━━━━━━━━━━━━━━━━━━━━━━\u001b[0m \u001b[32m1.2/1.2 MB\u001b[0m \u001b[31m43.7 MB/s\u001b[0m eta \u001b[36m0:00:00\u001b[0m\n",
      "\u001b[?25hInstalling collected packages: underthesea-core, rank_bm25, python-crfsuite, underthesea\n",
      "Successfully installed python-crfsuite-0.9.11 rank_bm25-0.2.2 underthesea-6.8.4 underthesea-core-1.0.4\n"
     ]
    }
   ],
   "source": [
    "!pip install rank_bm25 underthesea"
   ]
  },
  {
   "cell_type": "code",
   "execution_count": 5,
   "metadata": {
    "execution": {
     "iopub.execute_input": "2024-10-25T18:08:04.372792Z",
     "iopub.status.busy": "2024-10-25T18:08:04.372383Z",
     "iopub.status.idle": "2024-10-25T18:08:12.605971Z",
     "shell.execute_reply": "2024-10-25T18:08:12.604337Z",
     "shell.execute_reply.started": "2024-10-25T18:08:04.372746Z"
    },
    "trusted": true
   },
   "outputs": [],
   "source": [
    "from rank_bm25 import BM25Okapi\n",
    "import pandas as pd\n",
    "import pickle\n",
    "from underthesea import word_tokenize"
   ]
  },
  {
   "cell_type": "code",
   "execution_count": 6,
   "metadata": {
    "execution": {
     "iopub.execute_input": "2024-10-25T18:08:12.608774Z",
     "iopub.status.busy": "2024-10-25T18:08:12.608080Z",
     "iopub.status.idle": "2024-10-25T18:08:26.094514Z",
     "shell.execute_reply": "2024-10-25T18:08:26.093208Z",
     "shell.execute_reply.started": "2024-10-25T18:08:12.608708Z"
    },
    "trusted": true
   },
   "outputs": [
    {
     "data": {
      "text/html": [
       "<div>\n",
       "<style scoped>\n",
       "    .dataframe tbody tr th:only-of-type {\n",
       "        vertical-align: middle;\n",
       "    }\n",
       "\n",
       "    .dataframe tbody tr th {\n",
       "        vertical-align: top;\n",
       "    }\n",
       "\n",
       "    .dataframe thead th {\n",
       "        text-align: right;\n",
       "    }\n",
       "</style>\n",
       "<table border=\"1\" class=\"dataframe\">\n",
       "  <thead>\n",
       "    <tr style=\"text-align: right;\">\n",
       "      <th></th>\n",
       "      <th>text</th>\n",
       "      <th>cid</th>\n",
       "    </tr>\n",
       "  </thead>\n",
       "  <tbody>\n",
       "    <tr>\n",
       "      <th>0</th>\n",
       "      <td>Thông tư này hướng dẫn tuần tra, canh gác bảo ...</td>\n",
       "      <td>0</td>\n",
       "    </tr>\n",
       "    <tr>\n",
       "      <th>1</th>\n",
       "      <td>1. Hàng năm trước mùa mưa, lũ, Ủy ban nhân dân...</td>\n",
       "      <td>1</td>\n",
       "    </tr>\n",
       "    <tr>\n",
       "      <th>2</th>\n",
       "      <td>Tiêu chuẩn của các thành viên thuộc lực lượng ...</td>\n",
       "      <td>2</td>\n",
       "    </tr>\n",
       "    <tr>\n",
       "      <th>3</th>\n",
       "      <td>Nhiệm vụ của lực lượng tuần tra, canh gác đê\\n...</td>\n",
       "      <td>3</td>\n",
       "    </tr>\n",
       "    <tr>\n",
       "      <th>4</th>\n",
       "      <td>Phù hiệu của lực lượng tuần tra, canh gác đê\\n...</td>\n",
       "      <td>4</td>\n",
       "    </tr>\n",
       "  </tbody>\n",
       "</table>\n",
       "</div>"
      ],
      "text/plain": [
       "                                                text  cid\n",
       "0  Thông tư này hướng dẫn tuần tra, canh gác bảo ...    0\n",
       "1  1. Hàng năm trước mùa mưa, lũ, Ủy ban nhân dân...    1\n",
       "2  Tiêu chuẩn của các thành viên thuộc lực lượng ...    2\n",
       "3  Nhiệm vụ của lực lượng tuần tra, canh gác đê\\n...    3\n",
       "4  Phù hiệu của lực lượng tuần tra, canh gác đê\\n...    4"
      ]
     },
     "execution_count": 6,
     "metadata": {},
     "output_type": "execute_result"
    }
   ],
   "source": [
    "corpus=pd.read_csv(corpus_path)\n",
    "corpus.head()"
   ]
  },
  {
   "cell_type": "code",
   "execution_count": 7,
   "metadata": {
    "execution": {
     "iopub.execute_input": "2024-10-25T18:08:26.097604Z",
     "iopub.status.busy": "2024-10-25T18:08:26.097199Z",
     "iopub.status.idle": "2024-10-25T18:08:26.128996Z",
     "shell.execute_reply": "2024-10-25T18:08:26.127723Z",
     "shell.execute_reply.started": "2024-10-25T18:08:26.097562Z"
    },
    "trusted": true
   },
   "outputs": [
    {
     "name": "stdout",
     "output_type": "stream",
     "text": [
      "Thông tư này hướng dẫn tuần tra, canh gác bảo vệ đê Điều trong mùa lũ đối với các tuyến đê sông được phân loại, phân cấp theo quy định tại Điều 4 của Luật Đê Điều.\n",
      "0\n"
     ]
    }
   ],
   "source": [
    "corpus_text=corpus['text'].to_list()\n",
    "corpus_cid=corpus['cid'].to_list()\n",
    "print(corpus_text[0])\n",
    "print(corpus_cid[0])\n",
    "# corpus_tokenization=[doc.split(\" \") for doc in corpus_text]\n",
    "# corpus_tokenization=[word_tokenize(doc) for doc in corpus_text]\n",
    "# print(corpus_tokenization[0])"
   ]
  },
  {
   "cell_type": "code",
   "execution_count": 9,
   "metadata": {
    "execution": {
     "iopub.execute_input": "2024-10-25T18:10:12.307138Z",
     "iopub.status.busy": "2024-10-25T18:10:12.306276Z",
     "iopub.status.idle": "2024-10-25T18:10:33.008882Z",
     "shell.execute_reply": "2024-10-25T18:10:33.007947Z",
     "shell.execute_reply.started": "2024-10-25T18:10:12.307090Z"
    },
    "trusted": true
   },
   "outputs": [],
   "source": [
    "with open(tokenize_corpus, 'rb') as f:\n",
    "    corpus_tokenization = pickle.load(f)"
   ]
  },
  {
   "cell_type": "code",
   "execution_count": 10,
   "metadata": {
    "execution": {
     "iopub.execute_input": "2024-10-25T18:10:51.614452Z",
     "iopub.status.busy": "2024-10-25T18:10:51.613960Z",
     "iopub.status.idle": "2024-10-25T18:11:16.981125Z",
     "shell.execute_reply": "2024-10-25T18:11:16.980074Z",
     "shell.execute_reply.started": "2024-10-25T18:10:51.614408Z"
    },
    "trusted": true
   },
   "outputs": [],
   "source": [
    "legal_bm25 = BM25Okapi(corpus_tokenization)"
   ]
  },
  {
   "cell_type": "code",
   "execution_count": 11,
   "metadata": {
    "execution": {
     "iopub.execute_input": "2024-10-25T18:11:34.425090Z",
     "iopub.status.busy": "2024-10-25T18:11:34.424620Z",
     "iopub.status.idle": "2024-10-25T18:11:36.258306Z",
     "shell.execute_reply": "2024-10-25T18:11:36.257162Z",
     "shell.execute_reply.started": "2024-10-25T18:11:34.425043Z"
    },
    "trusted": true
   },
   "outputs": [
    {
     "name": "stdout",
     "output_type": "stream",
     "text": [
      "{'question': 'Người học ngành quản lý khai thác công trình thủy lợi trình độ cao đẳng phải có khả năng học tập và nâng cao trình độ như thế nào?', 'context': \"['Khả năng học tập, nâng cao trình độ\\\\n- Khối lượng kiến thức tối thiểu, yêu cầu về năng lực mà người học phải đạt được sau khi tốt nghiệp ngành, nghề quản lý, khai thác các công trình thủy lợi, trình độ cao đẳng có thể tiếp tục phát triển ở các trình độ cao hơn;\\\\n- Người học sau tốt nghiệp có năng lực tự học, tự cập nhật những tiến bộ khoa học công nghệ trong phạm vi ngành, nghề để nâng cao trình độ hoặc học liên thông lên trình độ cao hơn trong cùng ngành, nghề hoặc trong nhóm ngành, nghề hoặc trong cùng lĩnh vực đào tạo./.']\", 'cid': [62492], 'qid': 161615}\n"
     ]
    }
   ],
   "source": [
    "train_data=pd.read_csv(train_path)\n",
    "data_records=train_data.to_dict(orient='records')\n",
    "\n",
    "for point in data_records:\n",
    "    cid_str=point['cid']\n",
    "    point['cid'] = list(map(int, cid_str.strip('[]').split()))\n",
    "print(data_records[0])"
   ]
  },
  {
   "cell_type": "code",
   "execution_count": null,
   "metadata": {
    "execution": {
     "iopub.execute_input": "2024-10-25T18:11:40.552539Z",
     "iopub.status.busy": "2024-10-25T18:11:40.552091Z",
     "iopub.status.idle": "2024-10-25T18:12:35.419168Z",
     "shell.execute_reply": "2024-10-25T18:12:35.417451Z",
     "shell.execute_reply.started": "2024-10-25T18:11:40.552496Z"
    },
    "trusted": true
   },
   "outputs": [],
   "source": [
    "# Khởi tạo danh sách tạm để lưu trữ kết quả\n",
    "temp = []\n",
    "# Số lượng điểm tối đa trước khi lưu vào file\n",
    "batch_size = 10\n",
    "\n",
    "for idx, point in enumerate(data_records):\n",
    "    top_relevant = legal_bm25.get_top_n(word_tokenize(point['question']), corpus_cid, 10)\n",
    "    hard_negatives = [item for item in top_relevant if item not in point['cid']]  \n",
    "    curr=[point['qid']]\n",
    "    curr.extend(hard_negatives)\n",
    "    # Thêm question_id và hard_negatives vào danh sách tạm\n",
    "    temp.append(curr)\n",
    "\n",
    "    # Kiểm tra nếu đã đạt đến số lượng batch_size\n",
    "    if (idx + 1) % batch_size == 0:\n",
    "        # Ghi kết quả vào file\n",
    "        with open('/kaggle/working/hard_negative.txt', 'a') as f:\n",
    "            for item in temp:\n",
    "                f.write(f\"{item}\\n\")\n",
    "        print(f'inserting successfully {idx+1} elements')\n",
    "        temp.clear()\n",
    "\n",
    "# Lưu kết quả còn lại sau vòng lặp nếu có\n",
    "if temp:\n",
    "    with open('/kaggle/working/hard_negative.txt', 'a') as f:\n",
    "        for item in temp:\n",
    "            f.write(f\"{item}\\n\")\n",
    "\n"
   ]
  }
 ],
 "metadata": {
  "kaggle": {
   "accelerator": "none",
   "dataSources": [
    {
     "datasetId": 5948653,
     "sourceId": 9722450,
     "sourceType": "datasetVersion"
    },
    {
     "datasetId": 5948658,
     "sourceId": 9722457,
     "sourceType": "datasetVersion"
    },
    {
     "datasetId": 5919469,
     "sourceId": 9683856,
     "sourceType": "datasetVersion"
    }
   ],
   "dockerImageVersionId": 30786,
   "isGpuEnabled": false,
   "isInternetEnabled": true,
   "language": "python",
   "sourceType": "notebook"
  },
  "kernelspec": {
   "display_name": "Python 3",
   "language": "python",
   "name": "python3"
  },
  "language_info": {
   "codemirror_mode": {
    "name": "ipython",
    "version": 3
   },
   "file_extension": ".py",
   "mimetype": "text/x-python",
   "name": "python",
   "nbconvert_exporter": "python",
   "pygments_lexer": "ipython3",
   "version": "3.10.14"
  }
 },
 "nbformat": 4,
 "nbformat_minor": 4
}
