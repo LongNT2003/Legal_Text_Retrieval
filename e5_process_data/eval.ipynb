{
 "cells": [
  {
   "cell_type": "code",
   "execution_count": 24,
   "metadata": {},
   "outputs": [
    {
     "name": "stdout",
     "output_type": "stream",
     "text": [
      "G:\\20232\\intern ai cmc\\archive\\hackathon data backup\\corpus.csv\n"
     ]
    }
   ],
   "source": [
    "from qdrant_client import QdrantClient\n",
    "from sentence_transformers import SentenceTransformer\n",
    "import json\n",
    "from qdrant_client.models import SearchRequest\n",
    "with open('config.json', 'r') as f:\n",
    "    config = json.load(f)\n",
    "\n",
    "data_path = config['data_path']\n",
    "\n",
    "corpus_path=data_path+'corpus.csv'\n",
    "print(corpus_path)"
   ]
  },
  {
   "cell_type": "code",
   "execution_count": 3,
   "metadata": {},
   "outputs": [
    {
     "name": "stderr",
     "output_type": "stream",
     "text": [
      "You try to use a model that was created with version 3.3.0, however, your version is 3.2.1. This might cause unexpected behavior or errors. In that case, try to update to the latest version.\n",
      "\n",
      "\n",
      "\n"
     ]
    }
   ],
   "source": [
    "model_name = data_path+\"e5_legal_1\\run 4\\e5_legal_1\\checkpoint-21688\"\n",
    "embeddings = SentenceTransformer(r'G:\\20232\\intern ai cmc\\archive\\hackathon data backup\\e5_legal_1\\run 4\\e5_legal_1\\checkpoint-21688')"
   ]
  },
  {
   "cell_type": "code",
   "execution_count": 4,
   "metadata": {},
   "outputs": [
    {
     "name": "stdout",
     "output_type": "stream",
     "text": [
      "collections=[CollectionDescription(name='legal_hackthon_2024_ver1'), CollectionDescription(name='legal_hackthon_2024_ver2'), CollectionDescription(name='legal_hackthon_2024_ver3')]\n",
      "398220\n"
     ]
    }
   ],
   "source": [
    "client = QdrantClient(\n",
    "    path=data_path+'qdrant_db'\n",
    ")\n",
    "collection_name = \"legal_hackthon_2024_ver3\"\n",
    "print(client.get_collections())\n",
    "number_points = client.count(collection_name).count\n",
    "print(number_points)\n"
   ]
  },
  {
   "cell_type": "code",
   "execution_count": 41,
   "metadata": {},
   "outputs": [],
   "source": [
    "with open(data_path+'finetune results\\\\run 5\\\\query_embeddings.json', 'r') as file:\n",
    "    query_embeddings = json.load(file)\n",
    "\n",
    "def search_queries_batch(queries, index):\n",
    "    if type(queries[0]) is str:\n",
    "        queries = embeddings.encode(queries)\n",
    "    \n",
    "    requests=[SearchRequest(vector=vector, limit=30, with_payload=True) for vector in queries]\n",
    "\n",
    "    answers = client.search_batch(collection_name, requests)\n",
    "    final_answers=[]\n",
    "    for idx,i in enumerate(answers):\n",
    "        curr=[index[idx]]\n",
    "        curr.extend([point.payload['cid'] for point in i])\n",
    "        final_answers.append(list(set(curr))[:11])\n",
    "    return final_answers    "
   ]
  },
  {
   "cell_type": "code",
   "execution_count": 36,
   "metadata": {},
   "outputs": [
    {
     "name": "stdout",
     "output_type": "stream",
     "text": [
      "10000\n"
     ]
    }
   ],
   "source": [
    "import pandas as pd\n",
    "df=pd.read_csv(data_path+'public_test.csv')\n",
    "query_index=df['qid'].to_list()\n",
    "print(len(query_index))"
   ]
  },
  {
   "cell_type": "code",
   "execution_count": 43,
   "metadata": {},
   "outputs": [],
   "source": [
    "result=[]\n",
    "for i in range(0,len(query_embeddings), 500):\n",
    "    curr_search=search_queries_batch(query_embeddings[i:i+500], query_index[i:i+500])\n",
    "    result.extend(curr_search)\n",
    "    "
   ]
  },
  {
   "cell_type": "code",
   "execution_count": 53,
   "metadata": {},
   "outputs": [
    {
     "data": {
      "text/plain": [
       "10000"
      ]
     },
     "execution_count": 53,
     "metadata": {},
     "output_type": "execute_result"
    }
   ],
   "source": [
    "len(query_embeddings)"
   ]
  },
  {
   "cell_type": "code",
   "execution_count": 49,
   "metadata": {},
   "outputs": [],
   "source": [
    "with open('predict.txt','w') as file:\n",
    "    for i in result:\n",
    "        file.write(' '.join([str(x) for x in i]) +'\\n')"
   ]
  }
 ],
 "metadata": {
  "kernelspec": {
   "display_name": "Python 3",
   "language": "python",
   "name": "python3"
  },
  "language_info": {
   "codemirror_mode": {
    "name": "ipython",
    "version": 3
   },
   "file_extension": ".py",
   "mimetype": "text/x-python",
   "name": "python",
   "nbconvert_exporter": "python",
   "pygments_lexer": "ipython3",
   "version": "3.11.0rc1"
  }
 },
 "nbformat": 4,
 "nbformat_minor": 2
}
